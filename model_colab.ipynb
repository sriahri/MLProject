{
  "cells": [
    {
      "cell_type": "markdown",
      "source": [
        "The goal of this project is to classify argumentative elements in student writing as \"effective,\" \"adequate,\" or \"ineffective.\" We created a model trained on data that is representative of the 6th-12th grade population in the United States in order to minimize bias. The model developed will help pave the way for students to receive enhanced feedback on their argumentative writing. With automated guidance, students can complete more assignments and ultimately become more confident, proficient writers."
      ],
      "metadata": {
        "id": "3RUMS2Z4F0jD"
      }
    },
    {
      "cell_type": "code",
      "source": [
        "from google.colab import drive\n",
        "drive.mount('/content/drive')"
      ],
      "metadata": {
        "colab": {
          "base_uri": "https://localhost:8080/"
        },
        "id": "5sBm025KDQyp",
        "outputId": "13fa7592-951c-48a6-90c5-ac00b5c6378e"
      },
      "execution_count": 2,
      "outputs": [
        {
          "output_type": "stream",
          "name": "stdout",
          "text": [
            "Mounted at /content/drive\n"
          ]
        }
      ]
    },
    {
      "cell_type": "markdown",
      "metadata": {
        "id": "gBWBZw_iA9tU"
      },
      "source": [
        "Importing the required Libraries"
      ]
    },
    {
      "cell_type": "code",
      "execution_count": 3,
      "metadata": {
        "id": "yNClTPD2A9tX"
      },
      "outputs": [],
      "source": [
        "import numpy as np\n",
        "import pandas as pd\n",
        "import matplotlib.pyplot as plt\n",
        "import seaborn as sb\n",
        "import os"
      ]
    },
    {
      "cell_type": "markdown",
      "metadata": {
        "id": "s4ySbIOSA9tY"
      },
      "source": [
        "Getting the paths of the files in the dataset"
      ]
    },
    {
      "cell_type": "code",
      "execution_count": 4,
      "metadata": {
        "colab": {
          "base_uri": "https://localhost:8080/"
        },
        "id": "KOx8w87gA9tZ",
        "outputId": "979a5cea-586d-4205-93d6-93ba480c8131"
      },
      "outputs": [
        {
          "output_type": "stream",
          "name": "stdout",
          "text": [
            "/content/drive/MyDrive/Feedback_Predicting_Effective_arguments/feedback-prize-effectiveness + test.csv\n",
            "/content/drive/MyDrive/Feedback_Predicting_Effective_arguments/feedback-prize-effectiveness/test.csv\n",
            "/content/drive/MyDrive/Feedback_Predicting_Effective_arguments/feedback-prize-effectiveness + sample_submission.csv\n",
            "/content/drive/MyDrive/Feedback_Predicting_Effective_arguments/feedback-prize-effectiveness/sample_submission.csv\n",
            "/content/drive/MyDrive/Feedback_Predicting_Effective_arguments/feedback-prize-effectiveness + train.csv\n",
            "/content/drive/MyDrive/Feedback_Predicting_Effective_arguments/feedback-prize-effectiveness/train.csv\n"
          ]
        }
      ],
      "source": [
        "# The code lists and prints the paths of all CSV files in the specified directory and its subdirectories.\n",
        "# For each file with a '.csv' extension, it prints the directory, filename, and the full path of the CSV file.\n",
        "\n",
        "for dir, file, filenames in os.walk('/content/drive/MyDrive/Feedback_Predicting_Effective_arguments'):\n",
        "    for name in filenames:\n",
        "        if name.endswith('.csv'):\n",
        "            print(f'{dir} + {name}')\n",
        "            print(os.path.join(dir, name))"
      ]
    },
    {
      "cell_type": "markdown",
      "metadata": {
        "id": "OAnzKQiUA9tZ"
      },
      "source": [
        "Loading the dataset"
      ]
    },
    {
      "cell_type": "code",
      "execution_count": 5,
      "metadata": {
        "id": "1YKacbAEA9ta"
      },
      "outputs": [],
      "source": [
        "train = pd.read_csv(\"/content/drive/MyDrive/Feedback_Predicting_Effective_arguments/feedback-prize-effectiveness/train.csv\")\n",
        "test = pd.read_csv(\"/content/drive/MyDrive/Feedback_Predicting_Effective_arguments/feedback-prize-effectiveness/test.csv\")\n",
        "submission = pd.read_csv(\"/content/drive/MyDrive/Feedback_Predicting_Effective_arguments/feedback-prize-effectiveness/sample_submission.csv\")"
      ]
    },
    {
      "cell_type": "markdown",
      "metadata": {
        "id": "LAaCabdaA9ta"
      },
      "source": [
        "Exploratory Data Analysis"
      ]
    },
    {
      "cell_type": "code",
      "execution_count": 6,
      "metadata": {
        "colab": {
          "base_uri": "https://localhost:8080/"
        },
        "id": "IFbSrYSjA9ta",
        "outputId": "26a2c0e6-c6ab-4931-dd5a-c3c4e761ae51"
      },
      "outputs": [
        {
          "output_type": "stream",
          "name": "stdout",
          "text": [
            "(36765, 5)\n",
            "Index(['discourse_id', 'essay_id', 'discourse_text', 'discourse_type',\n",
            "       'discourse_effectiveness'],\n",
            "      dtype='object')\n"
          ]
        }
      ],
      "source": [
        "# print(train)\n",
        "print(train.shape)\n",
        "# print(train.head)\n",
        "print(train.columns)"
      ]
    },
    {
      "cell_type": "code",
      "execution_count": 7,
      "metadata": {
        "colab": {
          "base_uri": "https://localhost:8080/"
        },
        "id": "ZaihJ4IkA9tb",
        "outputId": "3c4cfba3-983c-4680-96d1-d8ed6dba0f53"
      },
      "outputs": [
        {
          "output_type": "stream",
          "name": "stdout",
          "text": [
            "<bound method NDFrame.head of    discourse_id      essay_id  \\\n",
            "0  a261b6e14276  D72CB1C11673   \n",
            "1  5a88900e7dc1  D72CB1C11673   \n",
            "2  9790d835736b  D72CB1C11673   \n",
            "3  75ce6d68b67b  D72CB1C11673   \n",
            "4  93578d946723  D72CB1C11673   \n",
            "5  2e214524dbe3  D72CB1C11673   \n",
            "6  84812fc2ab9f  D72CB1C11673   \n",
            "7  c668ff840720  D72CB1C11673   \n",
            "8  739a6d00f44a  D72CB1C11673   \n",
            "9  bcfae2c9a244  D72CB1C11673   \n",
            "\n",
            "                                      discourse_text        discourse_type  \n",
            "0  Making choices in life can be very difficult. ...                  Lead  \n",
            "1  Seeking multiple opinions can help a person ma...              Position  \n",
            "2                     it can decrease stress levels                  Claim  \n",
            "3             a great chance to learn something new                  Claim  \n",
            "4               can be very helpful and beneficial.                  Claim  \n",
            "5  When making a decision there is a chance that ...              Evidence  \n",
            "6  Everyone is different and may have more experi...              Evidence  \n",
            "7  Seeking others opinion can be very helpful and...                 Claim  \n",
            "8  Taking other peoples advice and doing what the...              Evidence  \n",
            "9  You can learn from others experiences by seeki...  Concluding Statement  >\n",
            "(10, 4)\n",
            "Index(['discourse_id', 'essay_id', 'discourse_text', 'discourse_type'], dtype='object')\n"
          ]
        }
      ],
      "source": [
        "print(test.head)\n",
        "print(test.shape)\n",
        "print(test.columns)"
      ]
    },
    {
      "cell_type": "markdown",
      "metadata": {
        "id": "cjS83cqWA9tb"
      },
      "source": [
        "Finding the missing values if any in the data."
      ]
    },
    {
      "cell_type": "code",
      "execution_count": 8,
      "metadata": {
        "id": "DNhtL8x1A9tb"
      },
      "outputs": [],
      "source": [
        "# The function returns a list of tuples where each tuple contains the name of a column\n",
        "# and the count of missing (NaN or null) values in that column.\n",
        "# The list is sorted in descending order based on the count of missing values.\n",
        "\n",
        "def missing_values(dataframe):\n",
        "    tuple_list = []\n",
        "    for col in dataframe.columns:\n",
        "        # print(col)\n",
        "        missing_count = dataframe[col].isna().sum()\n",
        "        if missing_count > 0:\n",
        "            tuple_list.append(tuple([col, missing_count]))\n",
        "    tuple_list = sorted(tuple_list, key=lambda x: x[1], reverse=True)\n",
        "    return tuple_list"
      ]
    },
    {
      "cell_type": "code",
      "execution_count": 9,
      "metadata": {
        "colab": {
          "base_uri": "https://localhost:8080/"
        },
        "id": "yjFENwtgA9tb",
        "outputId": "6a27e746-c903-4f60-bb40-3460f5e220e8"
      },
      "outputs": [
        {
          "output_type": "stream",
          "name": "stdout",
          "text": [
            "[]\n"
          ]
        }
      ],
      "source": [
        "print(missing_values(train))"
      ]
    },
    {
      "cell_type": "markdown",
      "metadata": {
        "id": "AwrZCk7zA9tb"
      },
      "source": [
        "Discourse Plot"
      ]
    },
    {
      "cell_type": "code",
      "execution_count": 10,
      "metadata": {
        "colab": {
          "base_uri": "https://localhost:8080/",
          "height": 523
        },
        "id": "wbhhkGFtA9tc",
        "outputId": "cdcdbd05-3e19-43e0-c6d7-193d4cf082d5"
      },
      "outputs": [
        {
          "output_type": "execute_result",
          "data": {
            "text/plain": [
              "<seaborn.axisgrid.FacetGrid at 0x7f049b363340>"
            ]
          },
          "metadata": {},
          "execution_count": 10
        },
        {
          "output_type": "display_data",
          "data": {
            "text/plain": [
              "<Figure size 500x500 with 1 Axes>"
            ],
            "image/png": "[encoded data removed]"
          },
          "metadata": {}
        }
      ],
      "source": [
        "sb.displot(train['discourse_effectiveness'])"
      ]
    },
    {
      "cell_type": "markdown",
      "metadata": {
        "id": "j7P9NpQGA9tc"
      },
      "source": [
        "Substituing the text target variable to numerical variable"
      ]
    },
    {
      "cell_type": "code",
      "execution_count": 11,
      "metadata": {
        "id": "SZAR7YOYA9tc"
      },
      "outputs": [],
      "source": [
        "train['discourse_effectiveness'] = train['discourse_effectiveness'].replace({'Adequate':2,'Ineffective':3,'Effective':1})"
      ]
    },
    {
      "cell_type": "code",
      "execution_count": 12,
      "metadata": {
        "colab": {
          "base_uri": "https://localhost:8080/"
        },
        "id": "TWyUXwkJA9tc",
        "outputId": "f4ef7eff-4889-4c68-d26d-d2bdebbcc95d"
      },
      "outputs": [
        {
          "output_type": "stream",
          "name": "stdout",
          "text": [
            "2    20977\n",
            "1     9326\n",
            "3     6462\n",
            "Name: discourse_effectiveness, dtype: int64\n",
            "2    0.570570\n",
            "1    0.253665\n",
            "3    0.175765\n",
            "Name: discourse_effectiveness, dtype: float64\n"
          ]
        }
      ],
      "source": [
        "print(train['discourse_effectiveness'].value_counts())\n",
        "print(train['discourse_effectiveness'].value_counts() / len(train['discourse_effectiveness']))"
      ]
    },
    {
      "cell_type": "markdown",
      "metadata": {
        "id": "xKYH9JpgA9tc"
      },
      "source": [
        "Reading the discourse essay text from the text file"
      ]
    },
    {
      "cell_type": "code",
      "execution_count": 15,
      "metadata": {
        "id": "0r3xxxrCA9tc"
      },
      "outputs": [],
      "source": [
        "def read_discourse_paper_train():\n",
        "    return train['essay_id'].apply(lambda x: open(f'/content/drive/MyDrive/Feedback_Predicting_Effective_arguments/feedback-prize-effectiveness/train/{x}.txt').read())\n",
        "def read_discourse_paper_test():\n",
        "    return test['essay_id'].apply(lambda x: open(f'/content/drive/MyDrive/Feedback_Predicting_Effective_arguments/feedback-prize-effectiveness/test/{x}.txt').read())"
      ]
    },
    {
      "cell_type": "code",
      "execution_count": 17,
      "metadata": {
        "colab": {
          "base_uri": "https://localhost:8080/"
        },
        "id": "yi481arfA9tc",
        "outputId": "78ae157f-6c99-441d-d59c-0fc87a89e0ce"
      },
      "outputs": [
        {
          "output_type": "stream",
          "name": "stdout",
          "text": [
            "Limiting the usage of cars has personal and professional support all across the globe and yet it has yet to be embraced everywhere. Statistical proof show where it may help and real life examples of some of the effects of reducing, or getting rid of altogether, cars in one's daily life. While \"recent studies suggest that Americans are buying fewer cars, driving less and getting fewer licenses as each year goes by\" (Source 4), is that really enough or for the right reason? There are plenty of reasons to stop, or limit, the amount of cars being driven on the roads for every kind of person, from the hippie to the businessman, from the mom to the college student. With so many things in this world that few people agree on, this is a nice change to see in regards the removal of so many cars. Why would they all agree, one might ask. Well, there are plenty of reasons.\n",
            "\n",
            "For starters, stress. It is no secret that morning traffic jams and 5'o'clock traffic is often enough to send any driver into a fit of unadulterated rage and what better way is there to prevent that than to simply not drive at all? Mother and media trainer, Heidrum Walter attested to this after moving into a mostly car-less community, claiming \"when [she] had a car [she] was always tense. [She's] much happier [that] way\" (Source 1). If that were not enough, businessman Carlos Arturo Plaza who participated in the Day Without Cars in Bogota, Colombia, after just a day was able to say \"it's a good oppurtunity to take away stress\" (Source 3). Just one day was enough to de-stress this man and if that does not speak wonders, one has to wonder what does. The event \"[left] the streets of [Bogota] eerily devoid of traffic jams\" (Source 3), which goes to show how stressful it was everyday, with traffic jams a common occurance. No one enjoys them, so why continue to suffer through them?\n",
            "\n",
            "Additionally, the environment suffers greatly from the many car emissions let out on the roads. \"Passenger cars are responsible for 12 percent of greenhouse gas emissions in Europe ... and up to 50 percent in some car-intensive areas in the United States\" (Source 1). This alone should be enough to horrify anyone out of such copious amounts of car usage. If that were not enough, \"transportation is the second largest source of America's emissions\" (Source 4). It is clear that cars are only doing more harm to this earth all humans live on and happen to only have one of, so there is no need to continue on knowing this without changing something about that. Even car-pooling could significantly reduce emissions as there would be less cars out there, which is possible through \"more flexible commuting arrangements, including the evolution of shared van services for getting to work\" (Source 4).\n",
            "\n",
            "Of course, adding the last two reasons together makes for another very important factor in all of this: everyone's general health. Both stress and high concentrations of smog can do a toll on one's body and the reduction of cars, once again, helps to reduce this terrible down-sides to the easy transportation option. If it must be described as \"emissions ... are choking cities\" (Source 1), then why not be a bit more concerned. Air pollution can affect those with pre-existing respitory issues and stress can be a deciding factor in how effient and well a person can function. Stress on the road can lead to unsafe driving and a worse performance at work, school, or any other task-oriented location that many go to with the aid of a car.\n",
            "\n",
            "It is also worth noting that cities that have embraced a no car lifestyle such as Vauban or Bogota have generally improved as a community and have given back anything the newly car-less citizens may have been missing out on through saving them time and money. In Vauban, \"stores are placed a walk away, on a main street, rather than in malls along some distant highway\" (Source 1). This is not only much more cost-efficient, but also convienent. This is saving both time and money, just like in Bogota where \"parks and sports centers [] have bloomed throughout the city; uneven, pitted sidewalks have been replaced by broad, smooth sidewalks; rush-hour restrictions have dramatically cut traffic; and new restaurants and upscale shopping districts have cropped up\" (Source 3). Not only does this help individual citizens and business owners, it helps the overall economy of the city as well.\n",
            "\n",
            "Individual car use isn't bad. Millions of individuals using cars, however, is very bad. Note the emphasis. Even just making a concious effort to car pool, bike to work or school, use public transportation, or use some sort of alternative transportation could be enough to clear up the air of some of it's emissions, keep oneself and others happier and less stressed, save time and money, and improve their city all in one little decision. It's just a matter of going ahead and doing it, so what is stopping anyone from going out and making that change now? Be the change you want to see and limit your car usage now.    \n",
            "(36765, 6)\n",
            "Index(['discourse_id', 'essay_id', 'discourse_text', 'discourse_type',\n",
            "       'discourse_effectiveness', 'discourse_paper'],\n",
            "      dtype='object')\n",
            "Index(['discourse_id', 'essay_id', 'discourse_text', 'discourse_type',\n",
            "       'discourse_paper'],\n",
            "      dtype='object')\n",
            "(10, 5)\n"
          ]
        }
      ],
      "source": [
        "train['discourse_paper'] = read_discourse_paper_train()\n",
        "print(train['discourse_paper'][10])\n",
        "test['discourse_paper'] = read_discourse_paper_test()\n",
        "print(train.shape)\n",
        "print(train.columns)\n",
        "print(test.columns)\n",
        "print(test.shape)"
      ]
    },
    {
      "cell_type": "markdown",
      "metadata": {
        "id": "4ZRRWmBHA9td"
      },
      "source": [
        "Creating the training data."
      ]
    },
    {
      "cell_type": "code",
      "execution_count": 18,
      "metadata": {
        "colab": {
          "base_uri": "https://localhost:8080/"
        },
        "id": "YwyT9KOJA9td",
        "outputId": "d9faa856-f91e-449b-e083-df01748af1be"
      },
      "outputs": [
        {
          "output_type": "stream",
          "name": "stdout",
          "text": [
            "Evidence                12105\n",
            "Claim                   11977\n",
            "Position                 4024\n",
            "Concluding Statement     3351\n",
            "Lead                     2291\n",
            "Counterclaim             1773\n",
            "Rebuttal                 1244\n",
            "Name: discourse_type, dtype: int64\n",
            "Evidence                0.329253\n",
            "Claim                   0.325772\n",
            "Position                0.109452\n",
            "Concluding Statement    0.091146\n",
            "Lead                    0.062315\n",
            "Counterclaim            0.048225\n",
            "Rebuttal                0.033837\n",
            "Name: discourse_type, dtype: float64\n",
            "36765\n"
          ]
        }
      ],
      "source": [
        "target_class = train['discourse_effectiveness']\n",
        "new_train = train.drop(['discourse_effectiveness'], axis=1)\n",
        "print (new_train['discourse_type'].value_counts())\n",
        "print(new_train['discourse_type'].value_counts()/len(new_train['discourse_type']))\n",
        "print(len(new_train['discourse_paper']))"
      ]
    },
    {
      "cell_type": "markdown",
      "metadata": {
        "id": "jIo8HaFYA9td"
      },
      "source": [
        "Text Processing"
      ]
    },
    {
      "cell_type": "code",
      "execution_count": 19,
      "metadata": {
        "colab": {
          "base_uri": "https://localhost:8080/"
        },
        "id": "ghYM2cgIA9td",
        "outputId": "971ea24f-f0b7-4dd1-92a4-7f3889759ba7"
      },
      "outputs": [
        {
          "output_type": "stream",
          "name": "stdout",
          "text": [
            "0        Hi, i'm Isaac, i'm going to be writing about h...\n",
            "1        Hi, i'm Isaac, i'm going to be writing about h...\n",
            "2        Hi, i'm Isaac, i'm going to be writing about h...\n",
            "3        Hi, i'm Isaac, i'm going to be writing about h...\n",
            "4        Hi, i'm Isaac, i'm going to be writing about h...\n",
            "                               ...                        \n",
            "36760    Some people may ask multiple people for advice...\n",
            "36761    Some people may ask multiple people for advice...\n",
            "36762    Some people may ask multiple people for advice...\n",
            "36763    Some people may ask multiple people for advice...\n",
            "36764    Some people may ask multiple people for advice...\n",
            "Name: discourse_paper, Length: 36765, dtype: object\n",
            "36765\n",
            "0        hi, i'm isaac, i'm going writing about how thi...\n",
            "1        hi, i'm isaac, i'm going writing about how thi...\n",
            "2        hi, i'm isaac, i'm going writing about how thi...\n",
            "3        hi, i'm isaac, i'm going writing about how thi...\n",
            "4        hi, i'm isaac, i'm going writing about how thi...\n",
            "                               ...                        \n",
            "36760    some people may ask multiple people for advice...\n",
            "36761    some people may ask multiple people for advice...\n",
            "36762    some people may ask multiple people for advice...\n",
            "36763    some people may ask multiple people for advice...\n",
            "36764    some people may ask multiple people for advice...\n",
            "Name: discourse_paper, Length: 36765, dtype: object\n"
          ]
        }
      ],
      "source": [
        "import nltk\n",
        "# from ntlk import stopwords\n",
        "import re as re\n",
        "text = new_train['discourse_paper']\n",
        "print(text)\n",
        "print(len(text))\n",
        "def clean_text(text):\n",
        "    text = text.str.lower()\n",
        "    text = text.replace('#', ' ')\n",
        "    text = text.apply(lambda x: ' '.join([word for word in x.split() if len(word)>2]))\n",
        "    return text\n",
        "text = clean_text(text)\n",
        "print(text)"
      ]
    },
    {
      "cell_type": "markdown",
      "metadata": {
        "id": "IxrgVPgXA9td"
      },
      "source": [
        "Dictionary of contractions for replacement"
      ]
    },
    {
      "cell_type": "code",
      "execution_count": 20,
      "metadata": {
        "id": "GDYXjlcHA9td"
      },
      "outputs": [],
      "source": [
        "contractions = {\n",
        "\"ain't\": \"am not / are not\",\n",
        "\"aren't\": \"are not / am not\",\n",
        "\"can't\": \"cannot\",\n",
        "\"can't've\": \"cannot have\",\n",
        "\"'cause\": \"because\",\n",
        "\"could've\": \"could have\",\n",
        "\"couldn't\": \"could not\",\n",
        "\"couldn't've\": \"could not have\",\n",
        "\"didn't\": \"did not\",\n",
        "\"doesn't\": \"does not\",\n",
        "\"don't\": \"do not\",\n",
        "\"hadn't\": \"had not\",\n",
        "\"hadn't've\": \"had not have\",\n",
        "\"hasn't\": \"has not\",\n",
        "\"haven't\": \"have not\",\n",
        "\"he'd\": \"he had / he would\",\n",
        "\"he'd've\": \"he would have\",\n",
        "\"he'll\": \"he shall / he will\",\n",
        "\"he'll've\": \"he shall have / he will have\",\n",
        "\"he's\": \"he has / he is\",\n",
        "\"how'd\": \"how did\",\n",
        "\"how'd'y\": \"how do you\",\n",
        "\"how'll\": \"how will\",\n",
        "\"how's\": \"how has / how is\",\n",
        "\"i'd\": \"I had / I would\",\n",
        "\"i'd've\": \"I would have\",\n",
        "\"i'll\": \"I shall / I will\",\n",
        "\"i'll've\": \"I shall have / I will have\",\n",
        "\"i'm\": \"I am\",\n",
        "\"i've\": \"I have\",\n",
        "\"isn't\": \"is not\",\n",
        "\"it'd\": \"it had / it would\",\n",
        "\"it'd've\": \"it would have\",\n",
        "\"it'll\": \"it shall / it will\",\n",
        "\"it'll've\": \"it shall have / it will have\",\n",
        "\"it's\": \"it has / it is\",\n",
        "\"let's\": \"let us\",\n",
        "\"ma'am\": \"madam\",\n",
        "\"mayn't\": \"may not\",\n",
        "\"might've\": \"might have\",\n",
        "\"mightn't\": \"might not\",\n",
        "\"mightn't've\": \"might not have\",\n",
        "\"must've\": \"must have\",\n",
        "\"mustn't\": \"must not\",\n",
        "\"mustn't've\": \"must not have\",\n",
        "\"needn't\": \"need not\",\n",
        "\"needn't've\": \"need not have\",\n",
        "\"o'clock\": \"of the clock\",\n",
        "\"oughtn't\": \"ought not\",\n",
        "\"oughtn't've\": \"ought not have\",\n",
        "\"shan't\": \"shall not\",\n",
        "\"sha'n't\": \"shall not\",\n",
        "\"shan't've\": \"shall not have\",\n",
        "\"she'd\": \"she had / she would\",\n",
        "\"she'd've\": \"she would have\",\n",
        "\"she'll\": \"she shall / she will\",\n",
        "\"she'll've\": \"she shall have / she will have\",\n",
        "\"she's\": \"she has / she is\",\n",
        "\"should've\": \"should have\",\n",
        "\"shouldn't\": \"should not\",\n",
        "\"shouldn't've\": \"should not have\",\n",
        "\"so've\": \"so have\",\n",
        "\"so's\": \"so as / so is\",\n",
        "\"that'd\": \"that would / that had\",\n",
        "\"that'd've\": \"that would have\",\n",
        "\"that's\": \"that has / that is\",\n",
        "\"there'd\": \"there had / there would\",\n",
        "\"there'd've\": \"there would have\",\n",
        "\"there's\": \"there has / there is\",\n",
        "\"they'd\": \"they had / they would\",\n",
        "\"they'd've\": \"they would have\",\n",
        "\"they'll\": \"they shall / they will\",\n",
        "\"they'll've\": \"they shall have / they will have\",\n",
        "\"they're\": \"they are\",\n",
        "\"they've\": \"they have\",\n",
        "\"to've\": \"to have\",\n",
        "\"wasn't\": \"was not\",\n",
        "\"we'd\": \"we had / we would\",\n",
        "\"we'd've\": \"we would have\",\n",
        "\"we'll\": \"we will\",\n",
        "\"we'll've\": \"we will have\",\n",
        "\"we're\": \"we are\",\n",
        "\"we've\": \"we have\",\n",
        "\"weren't\": \"were not\",\n",
        "\"what'll\": \"what shall / what will\",\n",
        "\"what'll've\": \"what shall have / what will have\",\n",
        "\"what're\": \"what are\",\n",
        "\"what's\": \"what has / what is\",\n",
        "\"what've\": \"what have\",\n",
        "\"when's\": \"when has / when is\",\n",
        "\"when've\": \"when have\",\n",
        "\"where'd\": \"where did\",\n",
        "\"where's\": \"where has / where is\",\n",
        "\"where've\": \"where have\",\n",
        "\"who'll\": \"who shall / who will\",\n",
        "\"who'll've\": \"who shall have / who will have\",\n",
        "\"who's\": \"who has / who is\",\n",
        "\"who've\": \"who have\",\n",
        "\"why's\": \"why has / why is\",\n",
        "\"why've\": \"why have\",\n",
        "\"will've\": \"will have\",\n",
        "\"won't\": \"will not\",\n",
        "\"won't've\": \"will not have\",\n",
        "\"would've\": \"would have\",\n",
        "\"wouldn't\": \"would not\",\n",
        "\"wouldn't've\": \"would not have\",\n",
        "\"y'all\": \"you all\",\n",
        "\"y'all'd\": \"you all would\",\n",
        "\"y'all'd've\": \"you all would have\",\n",
        "\"y'all're\": \"you all are\",\n",
        "\"y'all've\": \"you all have\",\n",
        "\"you'd\": \"you had / you would\",\n",
        "\"you'd've\": \"you would have\",\n",
        "\"you'll\": \"you shall / you will\",\n",
        "\"you'll've\": \"you shall have / you will have\",\n",
        "\"you're\": \"you are\",\n",
        "\"you've\": \"you have\"\n",
        "}"
      ]
    },
    {
      "cell_type": "markdown",
      "metadata": {
        "id": "0bP4HEquA9td"
      },
      "source": [
        "Converting all the contractions into their corresponding full forms."
      ]
    },
    {
      "cell_type": "code",
      "execution_count": 21,
      "metadata": {
        "colab": {
          "base_uri": "https://localhost:8080/"
        },
        "id": "s70k_NQLA9td",
        "outputId": "9db66371-6d9b-4cda-e220-c48ead86f37c"
      },
      "outputs": [
        {
          "output_type": "stream",
          "name": "stdout",
          "text": [
            "0    hi, i'm isaac, i'm going writing about how thi...\n",
            "1    hi, i'm isaac, i'm going writing about how thi...\n",
            "2    hi, i'm isaac, i'm going writing about how thi...\n",
            "3    hi, i'm isaac, i'm going writing about how thi...\n",
            "4    hi, i'm isaac, i'm going writing about how thi...\n",
            "Name: discourse_paper, dtype: object\n",
            "0    hi, I am isaac, I am going writing about how t...\n",
            "1    hi, I am isaac, I am going writing about how t...\n",
            "2    hi, I am isaac, I am going writing about how t...\n",
            "3    hi, I am isaac, I am going writing about how t...\n",
            "4    hi, I am isaac, I am going writing about how t...\n",
            "Name: discourse_paper, dtype: object\n"
          ]
        }
      ],
      "source": [
        "def convert_shorts(text, contractions):\n",
        "    for word in text.split():\n",
        "        if word in contractions:\n",
        "            text = text.replace(word, contractions[word])\n",
        "    return text\n",
        "print(text.head())\n",
        "text = text.apply(lambda x: convert_shorts(x, contractions))\n",
        "print(text.head())"
      ]
    },
    {
      "cell_type": "code",
      "execution_count": 23,
      "metadata": {
        "colab": {
          "base_uri": "https://localhost:8080/"
        },
        "id": "qNFAri5nA9te",
        "outputId": "0866c9ee-a685-4af5-cd10-106ec213cc6e"
      },
      "outputs": [
        {
          "output_type": "stream",
          "name": "stdout",
          "text": [
            "0        2\n",
            "1        2\n",
            "2        2\n",
            "3        2\n",
            "4        2\n",
            "        ..\n",
            "36760    2\n",
            "36761    2\n",
            "36762    2\n",
            "36763    3\n",
            "36764    3\n",
            "Name: discourse_effectiveness, Length: 36765, dtype: int64\n",
            "Index(['discourse_effectiveness'], dtype='object')\n"
          ]
        }
      ],
      "source": [
        "print(target_class)\n",
        "print(pd.DataFrame(target_class).columns)"
      ]
    },
    {
      "cell_type": "markdown",
      "metadata": {
        "id": "l2L6N6v5A9te"
      },
      "source": [
        "Performing One Hot Encoding"
      ]
    },
    {
      "cell_type": "code",
      "execution_count": 24,
      "metadata": {
        "colab": {
          "base_uri": "https://localhost:8080/"
        },
        "id": "L4MMf2ecA9te",
        "outputId": "e065541d-820a-465b-dc1f-7da2f3b007d6"
      },
      "outputs": [
        {
          "output_type": "stream",
          "name": "stdout",
          "text": [
            "Index(['onehotencoder__discourse_effectiveness_1',\n",
            "       'onehotencoder__discourse_effectiveness_2',\n",
            "       'onehotencoder__discourse_effectiveness_3'],\n",
            "      dtype='object')\n",
            "(36765, 3)\n"
          ]
        }
      ],
      "source": [
        "from sklearn.compose import make_column_transformer\n",
        "from sklearn.preprocessing import OneHotEncoder\n",
        "target_class = pd.DataFrame(target_class)\n",
        "column_trans = make_column_transformer((OneHotEncoder(), ['discourse_effectiveness']), remainder='passthrough')\n",
        "y = pd.DataFrame(column_trans.fit_transform(target_class), columns=column_trans.get_feature_names_out())\n",
        "print(y.columns)\n",
        "print(y.shape)\n"
      ]
    },
    {
      "cell_type": "code",
      "execution_count": 25,
      "metadata": {
        "colab": {
          "base_uri": "https://localhost:8080/"
        },
        "id": "-Unt42fgA9te",
        "outputId": "5425f80d-627b-4ebe-87bb-ea896baa3729"
      },
      "outputs": [
        {
          "output_type": "stream",
          "name": "stdout",
          "text": [
            "       onehotencoder__discourse_effectiveness_1  \\\n",
            "0                                           0.0   \n",
            "1                                           0.0   \n",
            "2                                           0.0   \n",
            "3                                           0.0   \n",
            "4                                           0.0   \n",
            "...                                         ...   \n",
            "36760                                       0.0   \n",
            "36761                                       0.0   \n",
            "36762                                       0.0   \n",
            "36763                                       0.0   \n",
            "36764                                       0.0   \n",
            "\n",
            "       onehotencoder__discourse_effectiveness_2  \\\n",
            "0                                           1.0   \n",
            "1                                           1.0   \n",
            "2                                           1.0   \n",
            "3                                           1.0   \n",
            "4                                           1.0   \n",
            "...                                         ...   \n",
            "36760                                       1.0   \n",
            "36761                                       1.0   \n",
            "36762                                       1.0   \n",
            "36763                                       0.0   \n",
            "36764                                       0.0   \n",
            "\n",
            "       onehotencoder__discourse_effectiveness_3  \n",
            "0                                           0.0  \n",
            "1                                           0.0  \n",
            "2                                           0.0  \n",
            "3                                           0.0  \n",
            "4                                           0.0  \n",
            "...                                         ...  \n",
            "36760                                       0.0  \n",
            "36761                                       0.0  \n",
            "36762                                       0.0  \n",
            "36763                                       1.0  \n",
            "36764                                       1.0  \n",
            "\n",
            "[36765 rows x 3 columns]\n"
          ]
        }
      ],
      "source": [
        "print(y)"
      ]
    },
    {
      "cell_type": "code",
      "execution_count": 26,
      "metadata": {
        "colab": {
          "base_uri": "https://localhost:8080/",
          "height": 443
        },
        "id": "ADSidLhvA9te",
        "outputId": "c21aa25c-584a-4774-a52a-0eee85a8ac71"
      },
      "outputs": [
        {
          "output_type": "execute_result",
          "data": {
            "text/plain": [
              "       onehotencoder__discourse_effectiveness_1  \\\n",
              "0                                             0   \n",
              "1                                             0   \n",
              "2                                             0   \n",
              "3                                             0   \n",
              "4                                             0   \n",
              "...                                         ...   \n",
              "36760                                         0   \n",
              "36761                                         0   \n",
              "36762                                         0   \n",
              "36763                                         0   \n",
              "36764                                         0   \n",
              "\n",
              "       onehotencoder__discourse_effectiveness_2  \\\n",
              "0                                             1   \n",
              "1                                             1   \n",
              "2                                             1   \n",
              "3                                             1   \n",
              "4                                             1   \n",
              "...                                         ...   \n",
              "36760                                         1   \n",
              "36761                                         1   \n",
              "36762                                         1   \n",
              "36763                                         0   \n",
              "36764                                         0   \n",
              "\n",
              "       onehotencoder__discourse_effectiveness_3  \n",
              "0                                             0  \n",
              "1                                             0  \n",
              "2                                             0  \n",
              "3                                             0  \n",
              "4                                             0  \n",
              "...                                         ...  \n",
              "36760                                         0  \n",
              "36761                                         0  \n",
              "36762                                         0  \n",
              "36763                                         1  \n",
              "36764                                         1  \n",
              "\n",
              "[36765 rows x 3 columns]"
            ],
            "text/html": [
              "\n",
              "  <div id=\"df-3fb85a52-65da-46cb-967c-d6c12673c1d1\" class=\"colab-df-container\">\n",
              "    <div>\n",
              "<style scoped>\n",
              "    .dataframe tbody tr th:only-of-type {\n",
              "        vertical-align: middle;\n",
              "    }\n",
              "\n",
              "    .dataframe tbody tr th {\n",
              "        vertical-align: top;\n",
              "    }\n",
              "\n",
              "    .dataframe thead th {\n",
              "        text-align: right;\n",
              "    }\n",
              "</style>\n",
              "<table border=\"1\" class=\"dataframe\">\n",
              "  <thead>\n",
              "    <tr style=\"text-align: right;\">\n",
              "      <th></th>\n",
              "      <th>onehotencoder__discourse_effectiveness_1</th>\n",
              "      <th>onehotencoder__discourse_effectiveness_2</th>\n",
              "      <th>onehotencoder__discourse_effectiveness_3</th>\n",
              "    </tr>\n",
              "  </thead>\n",
              "  <tbody>\n",
              "    <tr>\n",
              "      <th>0</th>\n",
              "      <td>0</td>\n",
              "      <td>1</td>\n",
              "      <td>0</td>\n",
              "    </tr>\n",
              "    <tr>\n",
              "      <th>1</th>\n",
              "      <td>0</td>\n",
              "      <td>1</td>\n",
              "      <td>0</td>\n",
              "    </tr>\n",
              "    <tr>\n",
              "      <th>2</th>\n",
              "      <td>0</td>\n",
              "      <td>1</td>\n",
              "      <td>0</td>\n",
              "    </tr>\n",
              "    <tr>\n",
              "      <th>3</th>\n",
              "      <td>0</td>\n",
              "      <td>1</td>\n",
              "      <td>0</td>\n",
              "    </tr>\n",
              "    <tr>\n",
              "      <th>4</th>\n",
              "      <td>0</td>\n",
              "      <td>1</td>\n",
              "      <td>0</td>\n",
              "    </tr>\n",
              "    <tr>\n",
              "      <th>...</th>\n",
              "      <td>...</td>\n",
              "      <td>...</td>\n",
              "      <td>...</td>\n",
              "    </tr>\n",
              "    <tr>\n",
              "      <th>36760</th>\n",
              "      <td>0</td>\n",
              "      <td>1</td>\n",
              "      <td>0</td>\n",
              "    </tr>\n",
              "    <tr>\n",
              "      <th>36761</th>\n",
              "      <td>0</td>\n",
              "      <td>1</td>\n",
              "      <td>0</td>\n",
              "    </tr>\n",
              "    <tr>\n",
              "      <th>36762</th>\n",
              "      <td>0</td>\n",
              "      <td>1</td>\n",
              "      <td>0</td>\n",
              "    </tr>\n",
              "    <tr>\n",
              "      <th>36763</th>\n",
              "      <td>0</td>\n",
              "      <td>0</td>\n",
              "      <td>1</td>\n",
              "    </tr>\n",
              "    <tr>\n",
              "      <th>36764</th>\n",
              "      <td>0</td>\n",
              "      <td>0</td>\n",
              "      <td>1</td>\n",
              "    </tr>\n",
              "  </tbody>\n",
              "</table>\n",
              "<p>36765 rows × 3 columns</p>\n",
              "</div>\n",
              "    <div class=\"colab-df-buttons\">\n",
              "\n",
              "  <div class=\"colab-df-container\">\n",
              "    <button class=\"colab-df-convert\" onclick=\"convertToInteractive('df-3fb85a52-65da-46cb-967c-d6c12673c1d1')\"\n",
              "            title=\"Convert this dataframe to an interactive table.\"\n",
              "            style=\"display:none;\">\n",
              "\n",
              "  <svg xmlns=\"http://www.w3.org/2000/svg\" height=\"24px\" viewBox=\"0 -960 960 960\">\n",
              "    <path d=\"M120-120v-720h720v720H120Zm60-500h600v-160H180v160Zm220 220h160v-160H400v160Zm0 220h160v-160H400v160ZM180-400h160v-160H180v160Zm440 0h160v-160H620v160ZM180-180h160v-160H180v160Zm440 0h160v-160H620v160Z\"/>\n",
              "  </svg>\n",
              "    </button>\n",
              "\n",
              "  <style>\n",
              "    .colab-df-container {\n",
              "      display:flex;\n",
              "      gap: 12px;\n",
              "    }\n",
              "\n",
              "    .colab-df-convert {\n",
              "      background-color: #E8F0FE;\n",
              "      border: none;\n",
              "      border-radius: 50%;\n",
              "      cursor: pointer;\n",
              "      display: none;\n",
              "      fill: #1967D2;\n",
              "      height: 32px;\n",
              "      padding: 0 0 0 0;\n",
              "      width: 32px;\n",
              "    }\n",
              "\n",
              "    .colab-df-convert:hover {\n",
              "      background-color: #E2EBFA;\n",
              "      box-shadow: 0px 1px 2px rgba(60, 64, 67, 0.3), 0px 1px 3px 1px rgba(60, 64, 67, 0.15);\n",
              "      fill: #174EA6;\n",
              "    }\n",
              "\n",
              "    .colab-df-buttons div {\n",
              "      margin-bottom: 4px;\n",
              "    }\n",
              "\n",
              "    [theme=dark] .colab-df-convert {\n",
              "      background-color: #3B4455;\n",
              "      fill: #D2E3FC;\n",
              "    }\n",
              "\n",
              "    [theme=dark] .colab-df-convert:hover {\n",
              "      background-color: #434B5C;\n",
              "      box-shadow: 0px 1px 3px 1px rgba(0, 0, 0, 0.15);\n",
              "      filter: drop-shadow(0px 1px 2px rgba(0, 0, 0, 0.3));\n",
              "      fill: #FFFFFF;\n",
              "    }\n",
              "  </style>\n",
              "\n",
              "    <script>\n",
              "      const buttonEl =\n",
              "        document.querySelector('#df-3fb85a52-65da-46cb-967c-d6c12673c1d1 button.colab-df-convert');\n",
              "      buttonEl.style.display =\n",
              "        google.colab.kernel.accessAllowed ? 'block' : 'none';\n",
              "\n",
              "      async function convertToInteractive(key) {\n",
              "        const element = document.querySelector('#df-3fb85a52-65da-46cb-967c-d6c12673c1d1');\n",
              "        const dataTable =\n",
              "          await google.colab.kernel.invokeFunction('convertToInteractive',\n",
              "                                                    [key], {});\n",
              "        if (!dataTable) return;\n",
              "\n",
              "        const docLinkHtml = 'Like what you see? Visit the ' +\n",
              "          '<a target=\"_blank\" href=https://colab.research.google.com/notebooks/data_table.ipynb>data table notebook</a>'\n",
              "          + ' to learn more about interactive tables.';\n",
              "        element.innerHTML = '';\n",
              "        dataTable['output_type'] = 'display_data';\n",
              "        await google.colab.output.renderOutput(dataTable, element);\n",
              "        const docLink = document.createElement('div');\n",
              "        docLink.innerHTML = docLinkHtml;\n",
              "        element.appendChild(docLink);\n",
              "      }\n",
              "    </script>\n",
              "  </div>\n",
              "\n",
              "\n",
              "<div id=\"df-0624857f-7111-4e3b-b358-9852f195e835\">\n",
              "  <button class=\"colab-df-quickchart\" onclick=\"quickchart('df-0624857f-7111-4e3b-b358-9852f195e835')\"\n",
              "            title=\"Suggest charts\"\n",
              "            style=\"display:none;\">\n",
              "\n",
              "<svg xmlns=\"http://www.w3.org/2000/svg\" height=\"24px\"viewBox=\"0 0 24 24\"\n",
              "     width=\"24px\">\n",
              "    <g>\n",
              "        <path d=\"M19 3H5c-1.1 0-2 .9-2 2v14c0 1.1.9 2 2 2h14c1.1 0 2-.9 2-2V5c0-1.1-.9-2-2-2zM9 17H7v-7h2v7zm4 0h-2V7h2v10zm4 0h-2v-4h2v4z\"/>\n",
              "    </g>\n",
              "</svg>\n",
              "  </button>\n",
              "\n",
              "<style>\n",
              "  .colab-df-quickchart {\n",
              "      --bg-color: #E8F0FE;\n",
              "      --fill-color: #1967D2;\n",
              "      --hover-bg-color: #E2EBFA;\n",
              "      --hover-fill-color: #174EA6;\n",
              "      --disabled-fill-color: #AAA;\n",
              "      --disabled-bg-color: #DDD;\n",
              "  }\n",
              "\n",
              "  [theme=dark] .colab-df-quickchart {\n",
              "      --bg-color: #3B4455;\n",
              "      --fill-color: #D2E3FC;\n",
              "      --hover-bg-color: #434B5C;\n",
              "      --hover-fill-color: #FFFFFF;\n",
              "      --disabled-bg-color: #3B4455;\n",
              "      --disabled-fill-color: #666;\n",
              "  }\n",
              "\n",
              "  .colab-df-quickchart {\n",
              "    background-color: var(--bg-color);\n",
              "    border: none;\n",
              "    border-radius: 50%;\n",
              "    cursor: pointer;\n",
              "    display: none;\n",
              "    fill: var(--fill-color);\n",
              "    height: 32px;\n",
              "    padding: 0;\n",
              "    width: 32px;\n",
              "  }\n",
              "\n",
              "  .colab-df-quickchart:hover {\n",
              "    background-color: var(--hover-bg-color);\n",
              "    box-shadow: 0 1px 2px rgba(60, 64, 67, 0.3), 0 1px 3px 1px rgba(60, 64, 67, 0.15);\n",
              "    fill: var(--button-hover-fill-color);\n",
              "  }\n",
              "\n",
              "  .colab-df-quickchart-complete:disabled,\n",
              "  .colab-df-quickchart-complete:disabled:hover {\n",
              "    background-color: var(--disabled-bg-color);\n",
              "    fill: var(--disabled-fill-color);\n",
              "    box-shadow: none;\n",
              "  }\n",
              "\n",
              "  .colab-df-spinner {\n",
              "    border: 2px solid var(--fill-color);\n",
              "    border-color: transparent;\n",
              "    border-bottom-color: var(--fill-color);\n",
              "    animation:\n",
              "      spin 1s steps(1) infinite;\n",
              "  }\n",
              "\n",
              "  @keyframes spin {\n",
              "    0% {\n",
              "      border-color: transparent;\n",
              "      border-bottom-color: var(--fill-color);\n",
              "      border-left-color: var(--fill-color);\n",
              "    }\n",
              "    20% {\n",
              "      border-color: transparent;\n",
              "      border-left-color: var(--fill-color);\n",
              "      border-top-color: var(--fill-color);\n",
              "    }\n",
              "    30% {\n",
              "      border-color: transparent;\n",
              "      border-left-color: var(--fill-color);\n",
              "      border-top-color: var(--fill-color);\n",
              "      border-right-color: var(--fill-color);\n",
              "    }\n",
              "    40% {\n",
              "      border-color: transparent;\n",
              "      border-right-color: var(--fill-color);\n",
              "      border-top-color: var(--fill-color);\n",
              "    }\n",
              "    60% {\n",
              "      border-color: transparent;\n",
              "      border-right-color: var(--fill-color);\n",
              "    }\n",
              "    80% {\n",
              "      border-color: transparent;\n",
              "      border-right-color: var(--fill-color);\n",
              "      border-bottom-color: var(--fill-color);\n",
              "    }\n",
              "    90% {\n",
              "      border-color: transparent;\n",
              "      border-bottom-color: var(--fill-color);\n",
              "    }\n",
              "  }\n",
              "</style>\n",
              "\n",
              "  <script>\n",
              "    async function quickchart(key) {\n",
              "      const quickchartButtonEl =\n",
              "        document.querySelector('#' + key + ' button');\n",
              "      quickchartButtonEl.disabled = true;  // To prevent multiple clicks.\n",
              "      quickchartButtonEl.classList.add('colab-df-spinner');\n",
              "      try {\n",
              "        const charts = await google.colab.kernel.invokeFunction(\n",
              "            'suggestCharts', [key], {});\n",
              "      } catch (error) {\n",
              "        console.error('Error during call to suggestCharts:', error);\n",
              "      }\n",
              "      quickchartButtonEl.classList.remove('colab-df-spinner');\n",
              "      quickchartButtonEl.classList.add('colab-df-quickchart-complete');\n",
              "    }\n",
              "    (() => {\n",
              "      let quickchartButtonEl =\n",
              "        document.querySelector('#df-0624857f-7111-4e3b-b358-9852f195e835 button');\n",
              "      quickchartButtonEl.style.display =\n",
              "        google.colab.kernel.accessAllowed ? 'block' : 'none';\n",
              "    })();\n",
              "  </script>\n",
              "</div>\n",
              "\n",
              "    </div>\n",
              "  </div>\n"
            ]
          },
          "metadata": {},
          "execution_count": 26
        }
      ],
      "source": [
        "y.astype(int)"
      ]
    },
    {
      "cell_type": "code",
      "execution_count": 27,
      "metadata": {
        "colab": {
          "base_uri": "https://localhost:8080/"
        },
        "id": "Hvhr5PJKA9te",
        "outputId": "7cd167b3-e70c-45d6-977b-6d206f925fb0"
      },
      "outputs": [
        {
          "output_type": "stream",
          "name": "stdout",
          "text": [
            "Hi, i'm Isaac, i'm going to be writing about how this face on Mars is a natural landform or if there is life on Mars that made it. The story is about how NASA took a picture of Mars and a face was seen on the planet. NASA doesn't know if the landform was created by life on Mars, or if it is just a natural landform. On my perspective, I think that the face is a natural landform because I dont think that there is any life on Mars. In these next few paragraphs, I'll be talking about how I think that is is a natural landform\n",
            "\n",
            "I think that the face is a natural landform because there is no life on Mars that we have descovered yet. If life was on Mars, we would know by now. The reason why I think it is a natural landform because, nobody live on Mars in order to create the figure. It says in paragraph 9, \"It's not easy to target Cydonia,\" in which he is saying that its not easy to know if it is a natural landform at this point. In all that they're saying, its probably a natural landform.\n",
            "\n",
            "People thought that the face was formed by alieans because they thought that there was life on Mars. though some say that life on Mars does exist, I think that there is no life on Mars.\n",
            "\n",
            "It says in paragraph 7, on April 5, 1998, Mars Global Surveyor flew over Cydonia for the first time. Michael Malin took a picture of Mars with his Orbiter Camera, that the face was a natural landform. Everyone who thought it was made by alieans even though it wasn't, was not satisfied. I think they were not satisfied because they have thought since 1976 that it was really formed by alieans.\n",
            "\n",
            "Though people were not satified about how the landform was a natural landform, in all, we new that alieans did not form the face. I would like to know how the landform was formed. we know now that life on Mars doesn't exist.             \n"
          ]
        }
      ],
      "source": [
        "print(new_train['discourse_paper'][0])"
      ]
    },
    {
      "cell_type": "code",
      "execution_count": 28,
      "metadata": {
        "colab": {
          "base_uri": "https://localhost:8080/"
        },
        "id": "EFLu9rFdA9te",
        "outputId": "7da804e5-a487-406d-a218-1e671b324fee"
      },
      "outputs": [
        {
          "output_type": "stream",
          "name": "stdout",
          "text": [
            "should computers read the emotional expressions students classroom? because, why should computer know how your feeling? would not change the emotion the students feeling. also would not help with the students education. its over all just waste time. the process begins when the computer puts together 3-d digital model. there are major muscles your face that the computer has detect. eckman classified six emotions happiness, surprise, anger, disgust, fear, and sadness. then associated each with characteristic movements facial muscles.\" for example the frontalis pars lateralis muscle above your eye which shows your surpried when raised. humans alone can identify facial expressions peoples faces. you look friend you can tell how they are feeling that moment. vinci studied human anatomy help paint the facial muscles percisely the mona lisa painting. dr. huangs has new computer software stores similar info electronic code. thinks there could different type code the painting. when facial facial expressions made its about muscular action units. the school computer should not have know how you are feeling. what kind problem that supposed solve? this idea nothing but just distraction for school students. also may detect wrong facial expressions. conclusion computers school should not detect emotions the students. have proved point why should not school. have given you several examples from the passage prove this point. shoudn't matter the computer knows how your feeling.\n",
            "think that would not valueable have technology able read emotions because the fact that its really easy for someone else get into your phone tablet through face reconition. people use face reconition alot and can quicker way get into your tablets and phones any other electronics, but people can easily crack into the electronic and take any personal infomation that they need. mean electonic ability read people's emotions cool and all, and its huge next step into newer tecnology for the future, but the fact that you know say you needed happy get into your phone, some one else can act happy and, well unlock your phone. paragraph six the article talks about how they could make different ads show you were happy frowning. that could good but your watching, like youtube videos and shows, your going want keep watching your video and not the ad. person watching show and pops and they smile, then shows another that the person didnt want see because they wanted keep watching thier show. think people would angry that happen, because not lot people like ads. ads can good for promotion products, but think all know when your playing game your electronic device that you want keep playing watching and not the ad. the reasons why said that this would unvalueable because the reason security,like anything could wrong because everything technology can unexpected. thats why chose the reasons did.\n"
          ]
        }
      ],
      "source": [
        "new_train['discourse_paper'] = text\n",
        "print(new_train['discourse_paper'][20])\n",
        "print(new_train['discourse_paper'][30])"
      ]
    },
    {
      "cell_type": "markdown",
      "metadata": {
        "id": "QCqBNo_1A9te"
      },
      "source": [
        "TFIDF Vectorizer"
      ]
    },
    {
      "cell_type": "code",
      "execution_count": 29,
      "metadata": {
        "id": "0O6s3p8xA9te"
      },
      "outputs": [],
      "source": [
        "from sklearn.feature_extraction.text import TfidfVectorizer\n",
        "\n",
        "vectorizer = TfidfVectorizer(stop_words='english', max_df=0.5, min_df=0.1)\n",
        "\n",
        "X_train = list(map(''.join, np.array(new_train).tolist()))\n",
        "X_test = list(map(''.join, np.array(test).tolist()))\n",
        "\n",
        "X_train_tfidf = vectorizer.fit_transform(X_train)\n",
        "X_test_tfidf = vectorizer.transform(X_test)\n"
      ]
    },
    {
      "cell_type": "code",
      "execution_count": 30,
      "metadata": {
        "colab": {
          "base_uri": "https://localhost:8080/"
        },
        "id": "20f1RRauA9tf",
        "outputId": "3340e39b-eba2-4976-9da5-fc61f04d7be7"
      },
      "outputs": [
        {
          "output_type": "stream",
          "name": "stdout",
          "text": [
            "(36765, 170)\n",
            "(10, 170)\n"
          ]
        }
      ],
      "source": [
        "print(X_train_tfidf.get_shape())\n",
        "print(X_test_tfidf.get_shape())"
      ]
    },
    {
      "cell_type": "code",
      "execution_count": 31,
      "metadata": {
        "id": "wbNwPxdzA9tf"
      },
      "outputs": [],
      "source": [
        "from sklearn.model_selection import train_test_split"
      ]
    },
    {
      "cell_type": "code",
      "execution_count": 32,
      "metadata": {
        "id": "rWR5r_4rA9th"
      },
      "outputs": [],
      "source": [
        "X_train, X_test, y_train, y_test = train_test_split(new_train, y, test_size=0.2, random_state=42)\n",
        "\n",
        "X_train_new = list(map(''.join, np.array(X_train).tolist()))\n",
        "X_test_new = list(map(''.join, np.array(X_test).tolist()))\n",
        "\n",
        "X_train_tfidf_new = vectorizer.fit_transform(X_train_new)\n",
        "X_test_tfidf_new = vectorizer.transform(X_test_new)"
      ]
    },
    {
      "cell_type": "markdown",
      "metadata": {
        "id": "rE5vv9GgA9th"
      },
      "source": [
        "Machine Learning Model"
      ]
    },
    {
      "cell_type": "code",
      "source": [
        "from sklearn.neighbors import KNeighborsRegressor\n",
        "from sklearn.multioutput import MultiOutputRegressor\n",
        "\n",
        "model =  MultiOutputRegressor(KNeighborsRegressor())\n",
        "model.fit(X_train_tfidf_new, y_train)"
      ],
      "metadata": {
        "colab": {
          "base_uri": "https://localhost:8080/",
          "height": 116
        },
        "id": "uSNWgKvwZe3L",
        "outputId": "d0cda77b-fd80-4fae-b19a-b29624254d15"
      },
      "execution_count": 34,
      "outputs": [
        {
          "output_type": "execute_result",
          "data": {
            "text/plain": [
              "MultiOutputRegressor(estimator=KNeighborsRegressor())"
            ],
            "text/html": [
              "<style>#sk-container-id-1 {color: black;background-color: white;}#sk-container-id-1 pre{padding: 0;}#sk-container-id-1 div.sk-toggleable {background-color: white;}#sk-container-id-1 label.sk-toggleable__label {cursor: pointer;display: block;width: 100%;margin-bottom: 0;padding: 0.3em;box-sizing: border-box;text-align: center;}#sk-container-id-1 label.sk-toggleable__label-arrow:before {content: \"▸\";float: left;margin-right: 0.25em;color: #696969;}#sk-container-id-1 label.sk-toggleable__label-arrow:hover:before {color: black;}#sk-container-id-1 div.sk-estimator:hover label.sk-toggleable__label-arrow:before {color: black;}#sk-container-id-1 div.sk-toggleable__content {max-height: 0;max-width: 0;overflow: hidden;text-align: left;background-color: #f0f8ff;}#sk-container-id-1 div.sk-toggleable__content pre {margin: 0.2em;color: black;border-radius: 0.25em;background-color: #f0f8ff;}#sk-container-id-1 input.sk-toggleable__control:checked~div.sk-toggleable__content {max-height: 200px;max-width: 100%;overflow: auto;}#sk-container-id-1 input.sk-toggleable__control:checked~label.sk-toggleable__label-arrow:before {content: \"▾\";}#sk-container-id-1 div.sk-estimator input.sk-toggleable__control:checked~label.sk-toggleable__label {background-color: #d4ebff;}#sk-container-id-1 div.sk-label input.sk-toggleable__control:checked~label.sk-toggleable__label {background-color: #d4ebff;}#sk-container-id-1 input.sk-hidden--visually {border: 0;clip: rect(1px 1px 1px 1px);clip: rect(1px, 1px, 1px, 1px);height: 1px;margin: -1px;overflow: hidden;padding: 0;position: absolute;width: 1px;}#sk-container-id-1 div.sk-estimator {font-family: monospace;background-color: #f0f8ff;border: 1px dotted black;border-radius: 0.25em;box-sizing: border-box;margin-bottom: 0.5em;}#sk-container-id-1 div.sk-estimator:hover {background-color: #d4ebff;}#sk-container-id-1 div.sk-parallel-item::after {content: \"\";width: 100%;border-bottom: 1px solid gray;flex-grow: 1;}#sk-container-id-1 div.sk-label:hover label.sk-toggleable__label {background-color: #d4ebff;}#sk-container-id-1 div.sk-serial::before {content: \"\";position: absolute;border-left: 1px solid gray;box-sizing: border-box;top: 0;bottom: 0;left: 50%;z-index: 0;}#sk-container-id-1 div.sk-serial {display: flex;flex-direction: column;align-items: center;background-color: white;padding-right: 0.2em;padding-left: 0.2em;position: relative;}#sk-container-id-1 div.sk-item {position: relative;z-index: 1;}#sk-container-id-1 div.sk-parallel {display: flex;align-items: stretch;justify-content: center;background-color: white;position: relative;}#sk-container-id-1 div.sk-item::before, #sk-container-id-1 div.sk-parallel-item::before {content: \"\";position: absolute;border-left: 1px solid gray;box-sizing: border-box;top: 0;bottom: 0;left: 50%;z-index: -1;}#sk-container-id-1 div.sk-parallel-item {display: flex;flex-direction: column;z-index: 1;position: relative;background-color: white;}#sk-container-id-1 div.sk-parallel-item:first-child::after {align-self: flex-end;width: 50%;}#sk-container-id-1 div.sk-parallel-item:last-child::after {align-self: flex-start;width: 50%;}#sk-container-id-1 div.sk-parallel-item:only-child::after {width: 0;}#sk-container-id-1 div.sk-dashed-wrapped {border: 1px dashed gray;margin: 0 0.4em 0.5em 0.4em;box-sizing: border-box;padding-bottom: 0.4em;background-color: white;}#sk-container-id-1 div.sk-label label {font-family: monospace;font-weight: bold;display: inline-block;line-height: 1.2em;}#sk-container-id-1 div.sk-label-container {text-align: center;}#sk-container-id-1 div.sk-container {/* jupyter's `normalize.less` sets `[hidden] { display: none; }` but bootstrap.min.css set `[hidden] { display: none !important; }` so we also need the `!important` here to be able to override the default hidden behavior on the sphinx rendered scikit-learn.org. See: https://github.com/scikit-learn/scikit-learn/issues/21755 */display: inline-block !important;position: relative;}#sk-container-id-1 div.sk-text-repr-fallback {display: none;}</style><div id=\"sk-container-id-1\" class=\"sk-top-container\"><div class=\"sk-text-repr-fallback\"><pre>MultiOutputRegressor(estimator=KNeighborsRegressor())</pre><b>In a Jupyter environment, please rerun this cell to show the HTML representation or trust the notebook. <br />On GitHub, the HTML representation is unable to render, please try loading this page with nbviewer.org.</b></div><div class=\"sk-container\" hidden><div class=\"sk-item sk-dashed-wrapped\"><div class=\"sk-label-container\"><div class=\"sk-label sk-toggleable\"><input class=\"sk-toggleable__control sk-hidden--visually\" id=\"sk-estimator-id-1\" type=\"checkbox\" ><label for=\"sk-estimator-id-1\" class=\"sk-toggleable__label sk-toggleable__label-arrow\">MultiOutputRegressor</label><div class=\"sk-toggleable__content\"><pre>MultiOutputRegressor(estimator=KNeighborsRegressor())</pre></div></div></div><div class=\"sk-parallel\"><div class=\"sk-parallel-item\"><div class=\"sk-item\"><div class=\"sk-label-container\"><div class=\"sk-label sk-toggleable\"><input class=\"sk-toggleable__control sk-hidden--visually\" id=\"sk-estimator-id-2\" type=\"checkbox\" ><label for=\"sk-estimator-id-2\" class=\"sk-toggleable__label sk-toggleable__label-arrow\">estimator: KNeighborsRegressor</label><div class=\"sk-toggleable__content\"><pre>KNeighborsRegressor()</pre></div></div></div><div class=\"sk-serial\"><div class=\"sk-item\"><div class=\"sk-estimator sk-toggleable\"><input class=\"sk-toggleable__control sk-hidden--visually\" id=\"sk-estimator-id-3\" type=\"checkbox\" ><label for=\"sk-estimator-id-3\" class=\"sk-toggleable__label sk-toggleable__label-arrow\">KNeighborsRegressor</label><div class=\"sk-toggleable__content\"><pre>KNeighborsRegressor()</pre></div></div></div></div></div></div></div></div></div></div>"
            ]
          },
          "metadata": {},
          "execution_count": 34
        }
      ]
    },
    {
      "cell_type": "code",
      "source": [
        "print(\"Training Score:\", model.score(X_train_tfidf_new, y_train))"
      ],
      "metadata": {
        "colab": {
          "base_uri": "https://localhost:8080/"
        },
        "id": "z7wXkKDZbgbz",
        "outputId": "281ada05-293d-462d-e850-640c5aaae0ba"
      },
      "execution_count": 37,
      "outputs": [
        {
          "output_type": "stream",
          "name": "stdout",
          "text": [
            "Training Score: 0.46534307570314254\n"
          ]
        }
      ]
    },
    {
      "cell_type": "code",
      "execution_count": 38,
      "metadata": {
        "id": "C6Ngej2dA9ti"
      },
      "outputs": [],
      "source": [
        "y_preds = model.predict(X_test_tfidf_new)"
      ]
    },
    {
      "cell_type": "code",
      "execution_count": 39,
      "metadata": {
        "colab": {
          "base_uri": "https://localhost:8080/"
        },
        "id": "gWujUbOWA9ti",
        "outputId": "af9aa810-4bd8-4a8a-bc5d-9002b5ade89d"
      },
      "outputs": [
        {
          "output_type": "stream",
          "name": "stdout",
          "text": [
            "(7353, 3)\n",
            "(7353, 3)\n"
          ]
        }
      ],
      "source": [
        "print(y_test.shape)\n",
        "print(y_preds.shape)"
      ]
    },
    {
      "cell_type": "code",
      "execution_count": 41,
      "metadata": {
        "colab": {
          "base_uri": "https://localhost:8080/"
        },
        "id": "sKcHgXTuA9ti",
        "outputId": "3fb18dd7-8365-4967-b89b-530b42084ba2"
      },
      "outputs": [
        {
          "output_type": "stream",
          "name": "stdout",
          "text": [
            "Requirement already satisfied: yellowbrick in /usr/local/lib/python3.10/dist-packages (1.5)\n",
            "Requirement already satisfied: matplotlib!=3.0.0,>=2.0.2 in /usr/local/lib/python3.10/dist-packages (from yellowbrick) (3.7.1)\n",
            "Requirement already satisfied: scipy>=1.0.0 in /usr/local/lib/python3.10/dist-packages (from yellowbrick) (1.11.4)\n",
            "Requirement already satisfied: scikit-learn>=1.0.0 in /usr/local/lib/python3.10/dist-packages (from yellowbrick) (1.2.2)\n",
            "Requirement already satisfied: numpy>=1.16.0 in /usr/local/lib/python3.10/dist-packages (from yellowbrick) (1.23.5)\n",
            "Requirement already satisfied: cycler>=0.10.0 in /usr/local/lib/python3.10/dist-packages (from yellowbrick) (0.12.1)\n",
            "Requirement already satisfied: contourpy>=1.0.1 in /usr/local/lib/python3.10/dist-packages (from matplotlib!=3.0.0,>=2.0.2->yellowbrick) (1.2.0)\n",
            "Requirement already satisfied: fonttools>=4.22.0 in /usr/local/lib/python3.10/dist-packages (from matplotlib!=3.0.0,>=2.0.2->yellowbrick) (4.45.1)\n",
            "Requirement already satisfied: kiwisolver>=1.0.1 in /usr/local/lib/python3.10/dist-packages (from matplotlib!=3.0.0,>=2.0.2->yellowbrick) (1.4.5)\n",
            "Requirement already satisfied: packaging>=20.0 in /usr/local/lib/python3.10/dist-packages (from matplotlib!=3.0.0,>=2.0.2->yellowbrick) (23.2)\n",
            "Requirement already satisfied: pillow>=6.2.0 in /usr/local/lib/python3.10/dist-packages (from matplotlib!=3.0.0,>=2.0.2->yellowbrick) (9.4.0)\n",
            "Requirement already satisfied: pyparsing>=2.3.1 in /usr/local/lib/python3.10/dist-packages (from matplotlib!=3.0.0,>=2.0.2->yellowbrick) (3.1.1)\n",
            "Requirement already satisfied: python-dateutil>=2.7 in /usr/local/lib/python3.10/dist-packages (from matplotlib!=3.0.0,>=2.0.2->yellowbrick) (2.8.2)\n",
            "Requirement already satisfied: joblib>=1.1.1 in /usr/local/lib/python3.10/dist-packages (from scikit-learn>=1.0.0->yellowbrick) (1.3.2)\n",
            "Requirement already satisfied: threadpoolctl>=2.0.0 in /usr/local/lib/python3.10/dist-packages (from scikit-learn>=1.0.0->yellowbrick) (3.2.0)\n",
            "Requirement already satisfied: six>=1.5 in /usr/local/lib/python3.10/dist-packages (from python-dateutil>=2.7->matplotlib!=3.0.0,>=2.0.2->yellowbrick) (1.16.0)\n"
          ]
        }
      ],
      "source": [
        "%pip install yellowbrick"
      ]
    },
    {
      "cell_type": "code",
      "execution_count": 42,
      "metadata": {
        "colab": {
          "base_uri": "https://localhost:8080/"
        },
        "id": "yTzhVathA9ti",
        "outputId": "db163b8f-df43-4068-e191-b469eaf04a1c"
      },
      "outputs": [
        {
          "output_type": "stream",
          "name": "stdout",
          "text": [
            "[[0.2 0.8 0. ]\n",
            " [1.  0.  0. ]\n",
            " [0.  1.  0. ]\n",
            " ...\n",
            " [0.2 0.2 0.6]\n",
            " [0.  0.8 0.2]\n",
            " [1.  0.  0. ]]\n"
          ]
        }
      ],
      "source": [
        "print(y_preds)"
      ]
    },
    {
      "cell_type": "code",
      "execution_count": 43,
      "metadata": {
        "colab": {
          "base_uri": "https://localhost:8080/"
        },
        "id": "swa1mIXMA9ti",
        "outputId": "eec39b95-eeef-4a61-bc57-3a6c43923fe7"
      },
      "outputs": [
        {
          "output_type": "stream",
          "name": "stdout",
          "text": [
            "0.15265605875152713\n"
          ]
        }
      ],
      "source": [
        "from sklearn.metrics import mean_squared_error\n",
        "mse1 = mean_squared_error(y_preds, y_test)\n",
        "print(mse1)"
      ]
    },
    {
      "cell_type": "code",
      "execution_count": 44,
      "metadata": {
        "colab": {
          "base_uri": "https://localhost:8080/",
          "height": 564
        },
        "id": "yA63dWIYA9ti",
        "outputId": "fa14acd5-84c5-42dd-c62e-c64e32da7a75"
      },
      "outputs": [
        {
          "output_type": "display_data",
          "data": {
            "text/plain": [
              "<Figure size 1000x600 with 1 Axes>"
            ],
            "image/png": "[encoded data removed]"
          },
          "metadata": {}
        }
      ],
      "source": [
        "import matplotlib.pyplot as plt\n",
        "import numpy as np\n",
        "\n",
        "plt.figure(figsize=(10, 6))\n",
        "for i in range(y_test.shape[1]):\n",
        "    plt.plot(y_test.iloc[:, i], label=f'True Output {i+1}', marker='o')\n",
        "    plt.plot(y_preds[:, i], label=f'Predicted Output {i+1}', linestyle='dashed', marker='x')\n",
        "\n",
        "plt.title('Line Plot of True vs. Predicted Values')\n",
        "plt.xlabel('Data Point')\n",
        "plt.ylabel('Values')\n",
        "plt.legend()\n",
        "plt.grid(True)\n",
        "plt.show()\n"
      ]
    },
    {
      "cell_type": "markdown",
      "metadata": {
        "id": "McgWr78TA9ti"
      },
      "source": [
        "Transfer Learning"
      ]
    },
    {
      "cell_type": "code",
      "execution_count": null,
      "metadata": {
        "id": "NpnIbyStA9tj",
        "outputId": "1d5f34fa-2875-4f25-dc54-cc535af99988"
      },
      "outputs": [
        {
          "name": "stdout",
          "output_type": "stream",
          "text": [
            "Requirement already satisfied: torch in f:\\uc_denver\\machine_learning\\project\\.venv\\lib\\site-packages (2.1.1)Note: you may need to restart the kernel to use updated packages.\n"
          ]
        },
        {
          "name": "stderr",
          "output_type": "stream",
          "text": [
            "\n",
            "[notice] A new release of pip is available: 23.2.1 -> 23.3.1\n",
            "[notice] To update, run: python.exe -m pip install --upgrade pip\n"
          ]
        },
        {
          "name": "stdout",
          "output_type": "stream",
          "text": [
            "\n",
            "Requirement already satisfied: transformers in f:\\uc_denver\\machine_learning\\project\\.venv\\lib\\site-packages (4.35.2)\n",
            "Requirement already satisfied: filelock in f:\\uc_denver\\machine_learning\\project\\.venv\\lib\\site-packages (from torch) (3.13.1)\n",
            "Requirement already satisfied: typing-extensions in f:\\uc_denver\\machine_learning\\project\\.venv\\lib\\site-packages (from torch) (4.8.0)\n",
            "Requirement already satisfied: sympy in f:\\uc_denver\\machine_learning\\project\\.venv\\lib\\site-packages (from torch) (1.12)\n",
            "Requirement already satisfied: networkx in f:\\uc_denver\\machine_learning\\project\\.venv\\lib\\site-packages (from torch) (3.2.1)\n",
            "Requirement already satisfied: jinja2 in f:\\uc_denver\\machine_learning\\project\\.venv\\lib\\site-packages (from torch) (3.1.2)\n",
            "Requirement already satisfied: fsspec in f:\\uc_denver\\machine_learning\\project\\.venv\\lib\\site-packages (from torch) (2023.10.0)\n",
            "Requirement already satisfied: huggingface-hub<1.0,>=0.16.4 in f:\\uc_denver\\machine_learning\\project\\.venv\\lib\\site-packages (from transformers) (0.19.4)\n",
            "Requirement already satisfied: numpy>=1.17 in f:\\uc_denver\\machine_learning\\project\\.venv\\lib\\site-packages (from transformers) (1.26.0)\n",
            "Requirement already satisfied: packaging>=20.0 in f:\\uc_denver\\machine_learning\\project\\.venv\\lib\\site-packages (from transformers) (23.2)\n",
            "Requirement already satisfied: pyyaml>=5.1 in f:\\uc_denver\\machine_learning\\project\\.venv\\lib\\site-packages (from transformers) (6.0.1)\n",
            "Requirement already satisfied: regex!=2019.12.17 in f:\\uc_denver\\machine_learning\\project\\.venv\\lib\\site-packages (from transformers) (2023.10.3)\n",
            "Requirement already satisfied: requests in f:\\uc_denver\\machine_learning\\project\\.venv\\lib\\site-packages (from transformers) (2.31.0)\n",
            "Requirement already satisfied: tokenizers<0.19,>=0.14 in f:\\uc_denver\\machine_learning\\project\\.venv\\lib\\site-packages (from transformers) (0.15.0)\n",
            "Requirement already satisfied: safetensors>=0.3.1 in f:\\uc_denver\\machine_learning\\project\\.venv\\lib\\site-packages (from transformers) (0.4.1)\n",
            "Requirement already satisfied: tqdm>=4.27 in f:\\uc_denver\\machine_learning\\project\\.venv\\lib\\site-packages (from transformers) (4.66.1)\n",
            "Requirement already satisfied: colorama in f:\\uc_denver\\machine_learning\\project\\.venv\\lib\\site-packages (from tqdm>=4.27->transformers) (0.4.6)\n",
            "Requirement already satisfied: MarkupSafe>=2.0 in f:\\uc_denver\\machine_learning\\project\\.venv\\lib\\site-packages (from jinja2->torch) (2.1.3)\n",
            "Requirement already satisfied: charset-normalizer<4,>=2 in f:\\uc_denver\\machine_learning\\project\\.venv\\lib\\site-packages (from requests->transformers) (3.3.2)\n",
            "Requirement already satisfied: idna<4,>=2.5 in f:\\uc_denver\\machine_learning\\project\\.venv\\lib\\site-packages (from requests->transformers) (3.6)\n",
            "Requirement already satisfied: urllib3<3,>=1.21.1 in f:\\uc_denver\\machine_learning\\project\\.venv\\lib\\site-packages (from requests->transformers) (2.1.0)\n",
            "Requirement already satisfied: certifi>=2017.4.17 in f:\\uc_denver\\machine_learning\\project\\.venv\\lib\\site-packages (from requests->transformers) (2023.11.17)\n",
            "Requirement already satisfied: mpmath>=0.19 in f:\\uc_denver\\machine_learning\\project\\.venv\\lib\\site-packages (from sympy->torch) (1.3.0)\n"
          ]
        }
      ],
      "source": [
        "%pip install torch transformers"
      ]
    },
    {
      "cell_type": "code",
      "execution_count": null,
      "metadata": {
        "id": "EeuW_94_A9tj",
        "outputId": "e08b824d-4684-4717-ab77-474c3097706d"
      },
      "outputs": [
        {
          "name": "stderr",
          "output_type": "stream",
          "text": [
            "f:\\UC_Denver\\Machine_Learning\\Project\\.venv\\Lib\\site-packages\\tqdm\\auto.py:21: TqdmWarning: IProgress not found. Please update jupyter and ipywidgets. See https://ipywidgets.readthedocs.io/en/stable/user_install.html\n",
            "  from .autonotebook import tqdm as notebook_tqdm\n"
          ]
        }
      ],
      "source": [
        "import torch\n",
        "from torch.utils.data import DataLoader, Dataset\n",
        "from transformers import DebertaTokenizer, DebertaForSequenceClassification\n",
        "from sklearn.model_selection import train_test_split\n",
        "from sklearn.metrics import mean_squared_error\n",
        "from tqdm import tqdm\n",
        "import pandas as pd\n",
        "import numpy as np"
      ]
    },
    {
      "cell_type": "markdown",
      "metadata": {
        "id": "VC61Ole9A9tj"
      },
      "source": [
        "Splitting the data and Tokenize it"
      ]
    },
    {
      "cell_type": "code",
      "execution_count": null,
      "metadata": {
        "id": "brnCEoUdA9tj"
      },
      "outputs": [],
      "source": [
        "X_train, X_test, y_train, y_test = train_test_split(new_train, y, test_size=0.2, random_state=42)\n",
        "\n",
        "# Tokenize the input data\n",
        "tokenizer = DebertaTokenizer.from_pretrained('microsoft/deberta-base')"
      ]
    },
    {
      "cell_type": "code",
      "execution_count": null,
      "metadata": {
        "id": "hkoowF3LA9tj",
        "outputId": "5231fd81-4700-4133-fc51-9c904168f5ff"
      },
      "outputs": [
        {
          "name": "stdout",
          "output_type": "stream",
          "text": [
            "       discourse_id      essay_id  \\\n",
            "3994   da146607809f  45C0A94A1668   \n",
            "3069   16666c0dbb61  38F506B031E1   \n",
            "4749   a4f3f435ea46  55B4B2BFF231   \n",
            "34914  134fc7f67f8f  79662DEC0A1B   \n",
            "2878   d04e6efeb6f6  3415EF8F87AA   \n",
            "...             ...           ...   \n",
            "16850  caeed6260f60  236ACE5E8FC3   \n",
            "6265   2397326a9855  71CF98E09876   \n",
            "11284  a13d92ecb5a0  CB66B685DAF6   \n",
            "860    7869a0b74c1d  1037273E86D9   \n",
            "15795  934f2a4f1c9e  139B1A57D6A3   \n",
            "\n",
            "                                          discourse_text  \\\n",
            "3994   Its a very good sorce for people that have the...   \n",
            "3069   Eveyone should have one of these or get an com...   \n",
            "4749   The NASA has talked about idea like sending hu...   \n",
            "34914  They will finish early and they start doing an...   \n",
            "2878                                 You could have fun    \n",
            "...                                                  ...   \n",
            "16850  So there is a possiblity that your not going t...   \n",
            "6265     Its's worth it to study and learen about venus    \n",
            "11284  Your principal has decided that all students m...   \n",
            "860    With advanced technology, the right location, ...   \n",
            "15795  When people put anything online about how they...   \n",
            "\n",
            "             discourse_type                                    discourse_paper  \n",
            "3994               Evidence  the new technology very helpful showing about ...  \n",
            "3069   Concluding Statement  facial action coding system think good idea be...  \n",
            "4749                  Claim  this passage personally think that did good jo...  \n",
            "34914              Evidence  students can get benefit from being able atten...  \n",
            "2878                  Claim  you should particpate the seagoing cowboys pro...  \n",
            "...                     ...                                                ...  \n",
            "16850              Evidence  okay hey, just wanted introduce myself before ...  \n",
            "6265                  Claim  the study venus the author talks about how the...  \n",
            "11284                  Lead  your principal has decided that all students m...  \n",
            "860                Evidence  the curiousity about mars has been going for c...  \n",
            "15795  Concluding Statement  the article, think that the image the \"face\" m...  \n",
            "\n",
            "[29412 rows x 5 columns]        onehotencoder__discourse_effectiveness_1  \\\n",
            "3994                                        0.0   \n",
            "3069                                        0.0   \n",
            "4749                                        0.0   \n",
            "34914                                       0.0   \n",
            "2878                                        0.0   \n",
            "...                                         ...   \n",
            "16850                                       0.0   \n",
            "6265                                        0.0   \n",
            "11284                                       0.0   \n",
            "860                                         1.0   \n",
            "15795                                       0.0   \n",
            "\n",
            "       onehotencoder__discourse_effectiveness_2  \\\n",
            "3994                                        0.0   \n",
            "3069                                        0.0   \n",
            "4749                                        1.0   \n",
            "34914                                       0.0   \n",
            "2878                                        1.0   \n",
            "...                                         ...   \n",
            "16850                                       0.0   \n",
            "6265                                        1.0   \n",
            "11284                                       0.0   \n",
            "860                                         0.0   \n",
            "15795                                       0.0   \n",
            "\n",
            "       onehotencoder__discourse_effectiveness_3  \n",
            "3994                                        1.0  \n",
            "3069                                        1.0  \n",
            "4749                                        0.0  \n",
            "34914                                       1.0  \n",
            "2878                                        0.0  \n",
            "...                                         ...  \n",
            "16850                                       1.0  \n",
            "6265                                        0.0  \n",
            "11284                                       1.0  \n",
            "860                                         0.0  \n",
            "15795                                       1.0  \n",
            "\n",
            "[29412 rows x 3 columns]\n",
            "Index(['discourse_id', 'essay_id', 'discourse_text', 'discourse_type',\n",
            "       'discourse_paper'],\n",
            "      dtype='object')\n"
          ]
        }
      ],
      "source": [
        "print(X_train, y_train)\n",
        "print(X_train.columns)"
      ]
    },
    {
      "cell_type": "code",
      "execution_count": null,
      "metadata": {
        "id": "8h4xzKhkA9tj",
        "outputId": "94ef1e6b-c46d-44fa-9093-d9aeb7c5524d"
      },
      "outputs": [
        {
          "data": {
            "text/plain": [
              "3994     the new technology very helpful showing about ...\n",
              "3069     facial action coding system think good idea be...\n",
              "4749     this passage personally think that did good jo...\n",
              "34914    students can get benefit from being able atten...\n",
              "2878     you should particpate the seagoing cowboys pro...\n",
              "                               ...                        \n",
              "16850    okay hey, just wanted introduce myself before ...\n",
              "6265     the study venus the author talks about how the...\n",
              "11284    your principal has decided that all students m...\n",
              "860      the curiousity about mars has been going for c...\n",
              "15795    the article, think that the image the \"face\" m...\n",
              "Name: discourse_paper, Length: 29412, dtype: object"
            ]
          },
          "execution_count": 30,
          "metadata": {},
          "output_type": "execute_result"
        }
      ],
      "source": [
        "X_train['discourse_paper']"
      ]
    },
    {
      "cell_type": "code",
      "execution_count": null,
      "metadata": {
        "id": "zAv_a9qqA9tj"
      },
      "outputs": [],
      "source": [
        "train_encodings = tokenizer(X_train['discourse_paper'].tolist(), truncation=True, padding=True, max_length=128)\n",
        "test_encodings = tokenizer(X_test['discourse_paper'].tolist(), truncation=True, padding=True, max_length=128)"
      ]
    },
    {
      "cell_type": "markdown",
      "metadata": {
        "id": "N5NmRjVyA9tk"
      },
      "source": [
        "Building a Custom Dataset"
      ]
    },
    {
      "cell_type": "code",
      "execution_count": null,
      "metadata": {
        "id": "fBXEZyqFA9tk"
      },
      "outputs": [],
      "source": [
        "\n",
        "class CustomDataset(Dataset):\n",
        "    def __init__(self, encodings, labels):\n",
        "        self.encodings = encodings\n",
        "        self.labels = labels\n",
        "\n",
        "    def __len__(self):\n",
        "        return len(self.labels)\n",
        "\n",
        "    def __getitem__(self, idx):\n",
        "        item = {key: torch.tensor(val[idx]) for key, val in self.encodings.items()}\n",
        "        item['label'] = torch.tensor(self.labels[idx], dtype=torch.float32)\n",
        "        return item\n"
      ]
    },
    {
      "cell_type": "code",
      "execution_count": null,
      "metadata": {
        "id": "7lxoeOpoA9tk"
      },
      "outputs": [],
      "source": [
        "train_labels = y_train[['onehotencoder__discourse_effectiveness_1', 'onehotencoder__discourse_effectiveness_2', 'onehotencoder__discourse_effectiveness_3']].values\n",
        "test_labels = y_test[['onehotencoder__discourse_effectiveness_1', 'onehotencoder__discourse_effectiveness_2', 'onehotencoder__discourse_effectiveness_3']].values"
      ]
    },
    {
      "cell_type": "markdown",
      "metadata": {
        "id": "sUNeVdpIA9tk"
      },
      "source": [
        "Converting the original dataset into the CustomDataset format"
      ]
    },
    {
      "cell_type": "code",
      "execution_count": null,
      "metadata": {
        "id": "5xbB67r9A9tk"
      },
      "outputs": [],
      "source": [
        "\n",
        "train_dataset = CustomDataset(train_encodings, train_labels)\n",
        "test_dataset = CustomDataset(test_encodings, test_labels)"
      ]
    },
    {
      "cell_type": "markdown",
      "metadata": {
        "id": "HlPNb9qOA9tk"
      },
      "source": [
        "Transformer Model"
      ]
    },
    {
      "cell_type": "code",
      "execution_count": null,
      "metadata": {
        "id": "MTB8m2duA9tk",
        "outputId": "5bdac914-a793-457d-b9d9-7939a458322f"
      },
      "outputs": [
        {
          "name": "stderr",
          "output_type": "stream",
          "text": [
            "Some weights of DebertaForSequenceClassification were not initialized from the model checkpoint at microsoft/deberta-base and are newly initialized: ['pooler.dense.bias', 'classifier.bias', 'classifier.weight', 'pooler.dense.weight']\n",
            "You should probably TRAIN this model on a down-stream task to be able to use it for predictions and inference.\n",
            "Epoch 1: 100%|██████████| 3677/3677 [5:50:33<00:00,  5.72s/it]  \n"
          ]
        },
        {
          "name": "stdout",
          "output_type": "stream",
          "text": [
            "Epoch 1, Average Loss: 0.9790\n"
          ]
        },
        {
          "name": "stderr",
          "output_type": "stream",
          "text": [
            "Epoch 2: 100%|██████████| 3677/3677 [6:14:15<00:00,  6.11s/it]    \n"
          ]
        },
        {
          "name": "stdout",
          "output_type": "stream",
          "text": [
            "Epoch 2, Average Loss: 0.9772\n"
          ]
        },
        {
          "name": "stderr",
          "output_type": "stream",
          "text": [
            "Epoch 3: 100%|██████████| 3677/3677 [6:16:33<00:00,  6.14s/it]     \n"
          ]
        },
        {
          "name": "stdout",
          "output_type": "stream",
          "text": [
            "Epoch 3, Average Loss: 0.9770\n"
          ]
        },
        {
          "name": "stderr",
          "output_type": "stream",
          "text": [
            "Testing: 100%|██████████| 920/920 [27:21<00:00,  1.78s/it]"
          ]
        },
        {
          "name": "stdout",
          "output_type": "stream",
          "text": [
            "Mean Squared Error: 0.4389\n"
          ]
        },
        {
          "name": "stderr",
          "output_type": "stream",
          "text": [
            "\n"
          ]
        }
      ],
      "source": [
        "\n",
        "model = DebertaForSequenceClassification.from_pretrained('microsoft/deberta-base', num_labels=3)\n",
        "\n",
        "# Training\n",
        "device = torch.device('cuda') if torch.cuda.is_available() else torch.device('cpu')\n",
        "model.to(device)\n",
        "\n",
        "train_loader = DataLoader(train_dataset, batch_size=8, shuffle=True)\n",
        "\n",
        "optimizer = torch.optim.AdamW(model.parameters(), lr=5e-5)\n",
        "num_epochs = 3\n",
        "\n",
        "for epoch in range(num_epochs):\n",
        "    model.train()\n",
        "    total_loss = 0\n",
        "\n",
        "    for batch in tqdm(train_loader, desc=f'Epoch {epoch + 1}'):\n",
        "        optimizer.zero_grad()\n",
        "        input_ids = batch['input_ids'].to(device)\n",
        "        attention_mask = batch['attention_mask'].to(device)\n",
        "        labels = batch['label'].to(device)\n",
        "\n",
        "        outputs = model(input_ids, attention_mask=attention_mask, labels=labels)\n",
        "        loss = outputs.loss\n",
        "        total_loss += loss.item()\n",
        "\n",
        "        loss.backward()\n",
        "        optimizer.step()\n",
        "\n",
        "    average_loss = total_loss / len(train_loader)\n",
        "    print(f'Epoch {epoch + 1}, Average Loss: {average_loss:.4f}')\n",
        "\n",
        "# Testing\n",
        "model.eval()\n",
        "test_loader = DataLoader(test_dataset, batch_size=8, shuffle=False)\n",
        "all_predictions = []\n",
        "\n",
        "with torch.no_grad():\n",
        "    for batch in tqdm(test_loader, desc='Testing'):\n",
        "        input_ids = batch['input_ids'].to(device)\n",
        "        attention_mask = batch['attention_mask'].to(device)\n",
        "\n",
        "        outputs = model(input_ids, attention_mask=attention_mask)\n",
        "        logits = outputs.logits\n",
        "        predictions = logits.cpu().numpy()\n",
        "        all_predictions.extend(predictions)\n",
        "\n",
        "# Evaluate using mean squared error\n",
        "mse = mean_squared_error(test_labels, all_predictions)\n",
        "print(f'Mean Squared Error: {mse:.4f}')"
      ]
    },
    {
      "cell_type": "markdown",
      "metadata": {
        "id": "hq4HF9mwA9tk"
      },
      "source": [
        "Saving the model"
      ]
    },
    {
      "cell_type": "code",
      "execution_count": null,
      "metadata": {
        "id": "ls0LDqH-A9tk"
      },
      "outputs": [],
      "source": [
        "model.save_pretrained(\"DeBERTamodel_essay\")"
      ]
    },
    {
      "cell_type": "code",
      "execution_count": null,
      "metadata": {
        "id": "fgo5kVskA9tl",
        "outputId": "5c0fd040-4bf9-4e57-b813-109b6a629c62"
      },
      "outputs": [
        {
          "data": {
            "text/plain": [
              "('DebertaTokenizer_essay\\\\tokenizer_config.json',\n",
              " 'DebertaTokenizer_essay\\\\special_tokens_map.json',\n",
              " 'DebertaTokenizer_essay\\\\vocab.json',\n",
              " 'DebertaTokenizer_essay\\\\merges.txt',\n",
              " 'DebertaTokenizer_essay\\\\added_tokens.json')"
            ]
          },
          "execution_count": 38,
          "metadata": {},
          "output_type": "execute_result"
        }
      ],
      "source": [
        "tokenizer.save_pretrained(\"DebertaTokenizer_essay\")"
      ]
    },
    {
      "cell_type": "code",
      "execution_count": null,
      "metadata": {
        "id": "sBbZNekoA9tl"
      },
      "outputs": [],
      "source": []
    }
  ],
  "metadata": {
    "kernelspec": {
      "display_name": "Python 3",
      "name": "python3"
    },
    "language_info": {
      "codemirror_mode": {
        "name": "ipython",
        "version": 3
      },
      "file_extension": ".py",
      "mimetype": "text/x-python",
      "name": "python",
      "nbconvert_exporter": "python",
      "pygments_lexer": "ipython3",
      "version": "3.11.1"
    },
    "orig_nbformat": 4,
    "colab": {
      "provenance": [],
      "gpuType": "T4"
    },
    "accelerator": "GPU"
  },
  "nbformat": 4,
  "nbformat_minor": 0
}